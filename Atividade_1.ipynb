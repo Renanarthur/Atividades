{
  "nbformat": 4,
  "nbformat_minor": 0,
  "metadata": {
    "colab": {
      "provenance": [],
      "authorship_tag": "ABX9TyMSLYA/QiUG627541G59o1B",
      "include_colab_link": true
    },
    "kernelspec": {
      "name": "python3",
      "display_name": "Python 3"
    },
    "language_info": {
      "name": "python"
    }
  },
  "cells": [
    {
      "cell_type": "markdown",
      "metadata": {
        "id": "view-in-github",
        "colab_type": "text"
      },
      "source": [
        "<a href=\"https://colab.research.google.com/github/Renanarthur/Atividades/blob/main/Atividade_1.ipynb\" target=\"_parent\"><img src=\"https://colab.research.google.com/assets/colab-badge.svg\" alt=\"Open In Colab\"/></a>"
      ]
    },
    {
      "cell_type": "code",
      "execution_count": 1,
      "metadata": {
        "colab": {
          "base_uri": "https://localhost:8080/"
        },
        "id": "GsaXOMMpsrOy",
        "outputId": "6d6d5cf2-19a5-4130-f367-d52a2ae9a66e"
      },
      "outputs": [
        {
          "output_type": "stream",
          "name": "stdout",
          "text": [
            "Alunos - PLP Unifavip 2022.2\n"
          ]
        }
      ],
      "source": [
        "print(\"Alunos - PLP Unifavip 2022.2\")"
      ]
    },
    {
      "cell_type": "code",
      "source": [
        "print('Alunos- plp unifavip 2025.2')"
      ],
      "metadata": {
        "colab": {
          "base_uri": "https://localhost:8080/"
        },
        "id": "PLmDQbzAyiqL",
        "outputId": "6a842741-d2de-4791-879d-87a549499f1e"
      },
      "execution_count": 2,
      "outputs": [
        {
          "output_type": "stream",
          "name": "stdout",
          "text": [
            "Alunos- plp unifavip 2025.2\n"
          ]
        }
      ]
    },
    {
      "cell_type": "code",
      "source": [
        "numero1 = 20\n",
        "numero2 = 30"
      ],
      "metadata": {
        "id": "S7OXXDXsyvLb"
      },
      "execution_count": 4,
      "outputs": []
    },
    {
      "cell_type": "code",
      "source": [
        "Digete_um_numero = 15"
      ],
      "metadata": {
        "id": "4ClEx5zV0uM5"
      },
      "execution_count": 7,
      "outputs": []
    },
    {
      "cell_type": "code",
      "source": [
        "Digete_um_numero"
      ],
      "metadata": {
        "colab": {
          "base_uri": "https://localhost:8080/"
        },
        "id": "X3-Tfbbe0_9x",
        "outputId": "0010957b-8b39-44fc-932c-f4072eaec89b"
      },
      "execution_count": 9,
      "outputs": [
        {
          "output_type": "execute_result",
          "data": {
            "text/plain": [
              "15"
            ]
          },
          "metadata": {},
          "execution_count": 9
        }
      ]
    },
    {
      "cell_type": "code",
      "source": [
        "20 + 30"
      ],
      "metadata": {
        "colab": {
          "base_uri": "https://localhost:8080/"
        },
        "id": "tDCdhbYH1Ska",
        "outputId": "0fc118c2-c3a0-49fc-e405-323339bf30c4"
      },
      "execution_count": 10,
      "outputs": [
        {
          "output_type": "execute_result",
          "data": {
            "text/plain": [
              "50"
            ]
          },
          "metadata": {},
          "execution_count": 10
        }
      ]
    },
    {
      "cell_type": "code",
      "source": [
        "nota1 =  1\n",
        "nota2 =  5\n",
        "nota3 =  6\n",
        "nota4 =  7"
      ],
      "metadata": {
        "id": "cme1OWeb1_7S"
      },
      "execution_count": 13,
      "outputs": []
    },
    {
      "cell_type": "code",
      "source": [
        "media_nota = (nota1 + nota2 + nota3 + nota4)"
      ],
      "metadata": {
        "id": "slO0cqkV3I2z"
      },
      "execution_count": 19,
      "outputs": []
    },
    {
      "cell_type": "code",
      "source": [
        "print(media_nota)"
      ],
      "metadata": {
        "colab": {
          "base_uri": "https://localhost:8080/"
        },
        "id": "oGnUnvC93iAC",
        "outputId": "8ddbb483-5e07-4b30-a309-e9babe5bd77c"
      },
      "execution_count": 20,
      "outputs": [
        {
          "output_type": "stream",
          "name": "stdout",
          "text": [
            "4.75\n"
          ]
        }
      ]
    },
    {
      "cell_type": "code",
      "source": [
        "print(media_nota+nota1)"
      ],
      "metadata": {
        "colab": {
          "base_uri": "https://localhost:8080/"
        },
        "id": "tN9nYKYx3trc",
        "outputId": "73513970-4461-4933-ab8c-e8a5378aceb9"
      },
      "execution_count": 21,
      "outputs": [
        {
          "output_type": "stream",
          "name": "stdout",
          "text": [
            "5.75\n"
          ]
        }
      ]
    },
    {
      "cell_type": "code",
      "source": [
        "print(nota1 + nota3)"
      ],
      "metadata": {
        "colab": {
          "base_uri": "https://localhost:8080/"
        },
        "id": "MR26wbBN32ZT",
        "outputId": "774024e2-52cf-46f6-aaa2-4341251f30ef"
      },
      "execution_count": 22,
      "outputs": [
        {
          "output_type": "stream",
          "name": "stdout",
          "text": [
            "7\n"
          ]
        }
      ]
    },
    {
      "cell_type": "code",
      "source": [
        "metros = 1\n",
        "centimetros = 100"
      ],
      "metadata": {
        "id": "po5gpejx39QU"
      },
      "execution_count": 23,
      "outputs": []
    },
    {
      "cell_type": "code",
      "source": [
        "print(centimetros)"
      ],
      "metadata": {
        "colab": {
          "base_uri": "https://localhost:8080/"
        },
        "id": "jwZcoOd84gLM",
        "outputId": "0bb99546-a2d1-44ad-e305-96488a3a2278"
      },
      "execution_count": 31,
      "outputs": [
        {
          "output_type": "stream",
          "name": "stdout",
          "text": [
            "100\n"
          ]
        }
      ]
    },
    {
      "cell_type": "code",
      "source": [
        "#area do circulo\n",
        "\n",
        "import math\n",
        "print('Calculadora de area de circulo')\n",
        "\n",
        "raio = float(input('Digite o valor do raio: '))\n",
        "\n",
        "area = math.pi * (raio ** 2)\n",
        "\n",
        "print ('a area do ciruclo e:', area)"
      ],
      "metadata": {
        "colab": {
          "base_uri": "https://localhost:8080/"
        },
        "id": "C55oLDtU9i99",
        "outputId": "5395b486-fe97-4213-d856-2a0791e00749"
      },
      "execution_count": 34,
      "outputs": [
        {
          "output_type": "stream",
          "name": "stdout",
          "text": [
            "Calculadora de area de circulo\n",
            "Digite o valor do raio: 1\n",
            "a area do ciruclo e: 3.141592653589793\n"
          ]
        }
      ]
    },
    {
      "cell_type": "code",
      "source": [],
      "metadata": {
        "id": "ZB6JqN43_Sai"
      },
      "execution_count": null,
      "outputs": []
    }
  ]
}