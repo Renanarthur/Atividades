{
  "nbformat": 4,
  "nbformat_minor": 0,
  "metadata": {
    "colab": {
      "provenance": [],
      "authorship_tag": "ABX9TyPilaMPiqgGutULkJ/gytSi",
      "include_colab_link": true
    },
    "kernelspec": {
      "name": "python3",
      "display_name": "Python 3"
    },
    "language_info": {
      "name": "python"
    }
  },
  "cells": [
    {
      "cell_type": "markdown",
      "metadata": {
        "id": "view-in-github",
        "colab_type": "text"
      },
      "source": [
        "<a href=\"https://colab.research.google.com/github/Renanarthur/Atividades/blob/main/atividade_1.ipynb\" target=\"_parent\"><img src=\"https://colab.research.google.com/assets/colab-badge.svg\" alt=\"Open In Colab\"/></a>"
      ]
    },
    {
      "cell_type": "code",
      "execution_count": null,
      "metadata": {
        "colab": {
          "base_uri": "https://localhost:8080/"
        },
        "id": "GsaXOMMpsrOy",
        "outputId": "6d6d5cf2-19a5-4130-f367-d52a2ae9a66e"
      },
      "outputs": [
        {
          "output_type": "stream",
          "name": "stdout",
          "text": [
            "Alunos - PLP Unifavip 2022.2\n"
          ]
        }
      ],
      "source": [
        "print(\"Alunos - PLP Unifavip 2022.2\")"
      ]
    },
    {
      "cell_type": "code",
      "source": [
        "print('Alunos- plp unifavip 2025.2')"
      ],
      "metadata": {
        "colab": {
          "base_uri": "https://localhost:8080/"
        },
        "id": "PLmDQbzAyiqL",
        "outputId": "6a842741-d2de-4791-879d-87a549499f1e"
      },
      "execution_count": null,
      "outputs": [
        {
          "output_type": "stream",
          "name": "stdout",
          "text": [
            "Alunos- plp unifavip 2025.2\n"
          ]
        }
      ]
    },
    {
      "cell_type": "code",
      "source": [
        "numero1 = 20\n",
        "numero2 = 30"
      ],
      "metadata": {
        "id": "S7OXXDXsyvLb"
      },
      "execution_count": null,
      "outputs": []
    },
    {
      "cell_type": "code",
      "source": [
        "Digete_um_numero = 15"
      ],
      "metadata": {
        "id": "4ClEx5zV0uM5"
      },
      "execution_count": null,
      "outputs": []
    },
    {
      "cell_type": "code",
      "source": [
        "Digete_um_numero"
      ],
      "metadata": {
        "colab": {
          "base_uri": "https://localhost:8080/"
        },
        "id": "X3-Tfbbe0_9x",
        "outputId": "0010957b-8b39-44fc-932c-f4072eaec89b"
      },
      "execution_count": null,
      "outputs": [
        {
          "output_type": "execute_result",
          "data": {
            "text/plain": [
              "15"
            ]
          },
          "metadata": {},
          "execution_count": 9
        }
      ]
    },
    {
      "cell_type": "code",
      "source": [
        "20 + 30"
      ],
      "metadata": {
        "colab": {
          "base_uri": "https://localhost:8080/"
        },
        "id": "tDCdhbYH1Ska",
        "outputId": "0fc118c2-c3a0-49fc-e405-323339bf30c4"
      },
      "execution_count": null,
      "outputs": [
        {
          "output_type": "execute_result",
          "data": {
            "text/plain": [
              "50"
            ]
          },
          "metadata": {},
          "execution_count": 10
        }
      ]
    },
    {
      "cell_type": "code",
      "source": [
        "nota1 =  1\n",
        "nota2 =  5\n",
        "nota3 =  6\n",
        "nota4 =  7"
      ],
      "metadata": {
        "id": "cme1OWeb1_7S"
      },
      "execution_count": null,
      "outputs": []
    },
    {
      "cell_type": "code",
      "source": [
        "media_nota = (nota1 + nota2 + nota3 + nota4)"
      ],
      "metadata": {
        "id": "slO0cqkV3I2z"
      },
      "execution_count": null,
      "outputs": []
    },
    {
      "cell_type": "code",
      "source": [
        "print(media_nota)"
      ],
      "metadata": {
        "colab": {
          "base_uri": "https://localhost:8080/"
        },
        "id": "oGnUnvC93iAC",
        "outputId": "8ddbb483-5e07-4b30-a309-e9babe5bd77c"
      },
      "execution_count": null,
      "outputs": [
        {
          "output_type": "stream",
          "name": "stdout",
          "text": [
            "4.75\n"
          ]
        }
      ]
    },
    {
      "cell_type": "code",
      "source": [
        "print(media_nota+nota1)"
      ],
      "metadata": {
        "colab": {
          "base_uri": "https://localhost:8080/"
        },
        "id": "tN9nYKYx3trc",
        "outputId": "73513970-4461-4933-ab8c-e8a5378aceb9"
      },
      "execution_count": null,
      "outputs": [
        {
          "output_type": "stream",
          "name": "stdout",
          "text": [
            "5.75\n"
          ]
        }
      ]
    },
    {
      "cell_type": "code",
      "source": [
        "print(nota1 + nota3)"
      ],
      "metadata": {
        "colab": {
          "base_uri": "https://localhost:8080/"
        },
        "id": "MR26wbBN32ZT",
        "outputId": "774024e2-52cf-46f6-aaa2-4341251f30ef"
      },
      "execution_count": null,
      "outputs": [
        {
          "output_type": "stream",
          "name": "stdout",
          "text": [
            "7\n"
          ]
        }
      ]
    },
    {
      "cell_type": "code",
      "source": [
        "metros = 1\n",
        "centimetros = 100"
      ],
      "metadata": {
        "id": "po5gpejx39QU"
      },
      "execution_count": null,
      "outputs": []
    },
    {
      "cell_type": "code",
      "source": [
        "print(centimetros)"
      ],
      "metadata": {
        "colab": {
          "base_uri": "https://localhost:8080/"
        },
        "id": "jwZcoOd84gLM",
        "outputId": "0bb99546-a2d1-44ad-e305-96488a3a2278"
      },
      "execution_count": null,
      "outputs": [
        {
          "output_type": "stream",
          "name": "stdout",
          "text": [
            "100\n"
          ]
        }
      ]
    },
    {
      "cell_type": "code",
      "source": [
        "#area do circulo\n",
        "\n",
        "import math\n",
        "print('Calculadora de area de circulo')\n",
        "\n",
        "raio = float(input('Digite o valor do raio: '))\n",
        "\n",
        "area = math.pi * (raio ** 2)\n",
        "\n",
        "print ('a area do ciruclo e:', area)"
      ],
      "metadata": {
        "colab": {
          "base_uri": "https://localhost:8080/"
        },
        "id": "C55oLDtU9i99",
        "outputId": "5395b486-fe97-4213-d856-2a0791e00749"
      },
      "execution_count": null,
      "outputs": [
        {
          "output_type": "stream",
          "name": "stdout",
          "text": [
            "Calculadora de area de circulo\n",
            "Digite o valor do raio: 1\n",
            "a area do ciruclo e: 3.141592653589793\n"
          ]
        }
      ]
    },
    {
      "cell_type": "code",
      "source": [
        "#Area de um quadrado\n",
        "\n",
        "\n",
        "print('Calculadora de area de quadrado e o dobro da area')\n",
        "\n",
        "lado = float(input('Digite o valor do lado: '))\n",
        "\n",
        "area = lado * lado\n",
        "\n",
        "print ('a area do quadrado e:', area)\n",
        "dobro_da_area = area * 2\n",
        "\n",
        "print ('o dobro da area do quadrado e:', dobro_da_area)"
      ],
      "metadata": {
        "id": "ZB6JqN43_Sai",
        "colab": {
          "base_uri": "https://localhost:8080/"
        },
        "outputId": "cc940451-e0cd-4b4e-a218-3a4441e64068"
      },
      "execution_count": null,
      "outputs": [
        {
          "output_type": "stream",
          "name": "stdout",
          "text": [
            "Calculadora de area de quadrado e o dobro da area\n",
            "Digite o valor do lado: 4\n",
            "a area do quadrado e: 16.0\n",
            "o dobro da area do quadrado e: 32.0\n"
          ]
        }
      ]
    },
    {
      "cell_type": "code",
      "source": [
        "          #Ganho por hora e numero horas trabalhadas\n",
        "\n",
        "horas_trabalhadas = float(input('digite o valor da hora trabalhadas'))\n",
        "\n",
        "ganho_por_hora = float(input('digite o valor do ganho por hora'))\n",
        "\n",
        "salario = horas_trabalhadas * ganho_por_hora\n",
        "\n",
        "print('o salario bruto e $:',salario)\n"
      ],
      "metadata": {
        "colab": {
          "base_uri": "https://localhost:8080/"
        },
        "id": "Dr0_sOruvQ9q",
        "outputId": "3b63a683-9caf-47a3-85dd-f7a62a792921"
      },
      "execution_count": null,
      "outputs": [
        {
          "output_type": "stream",
          "name": "stdout",
          "text": [
            "digite o valor da hora trabalhadas30\n",
            "digite o valor do ganho por hora40\n",
            "o salario bruto e $: 1200.0\n"
          ]
        }
      ]
    },
    {
      "cell_type": "code",
      "source": [
        "             #Temperatura em graus Celsius\n",
        "\n",
        "temperatura_em_fahrenhet = float(input('Digite a temperatura em graus fahrenhet'))\n",
        "Celsius = (temperatura_em_fahrenhet - 32) * 5 / 9\n",
        "\n",
        "print('a temperatura em graus fahrenhet e:', Celsius)"
      ],
      "metadata": {
        "colab": {
          "base_uri": "https://localhost:8080/"
        },
        "id": "iExuKpnY1Y-x",
        "outputId": "e09ee2bd-a428-4b5e-e0a1-cd6eab7d5772"
      },
      "execution_count": null,
      "outputs": [
        {
          "output_type": "stream",
          "name": "stdout",
          "text": [
            "Digite a temperatura em graus fahrenhet4\n",
            "a temperatura em graus fahrenhet e: -15.555555555555555\n"
          ]
        }
      ]
    },
    {
      "cell_type": "code",
      "source": [
        "        #Numeros inteiros\n",
        "\n",
        "\n",
        "\n",
        "\n",
        "num1 = int(input(\"Digite o primeiro número inteiro: \"))\n",
        "num2 = int(input(\"Digite o segundo número inteiro: \"))\n",
        "num3 = float(input(\"Digite um número real: \"))\n",
        "\n",
        "resultado_a = (2 * num1) * (num2 / 2)\n",
        "\n",
        "resultado_b = (3 * num1) + num3\n",
        "\n",
        "resultado_c = num3 ** 3\n",
        "\n",
        "print(\"a) O produto do dobro do primeiro com metade do segundo é:\", resultado_a)\n",
        "print(\"b) A soma do triplo do primeiro com o terceiro é:\", resultado_b)\n",
        "print(\"c) O terceiro elevado ao cubo é:\", resultado_c)\n"
      ],
      "metadata": {
        "colab": {
          "base_uri": "https://localhost:8080/"
        },
        "id": "T4OCHtfp_lBF",
        "outputId": "f09baaef-7de6-4ece-f356-b8858ac22963"
      },
      "execution_count": null,
      "outputs": [
        {
          "output_type": "stream",
          "name": "stdout",
          "text": [
            "Digite o primeiro número inteiro: 1\n",
            "Digite o segundo número inteiro: 8\n",
            "Digite um número real: 3.1\n",
            "a) O produto do dobro do primeiro com metade do segundo é: 8.0\n",
            "b) A soma do triplo do primeiro com o terceiro é: 6.1\n",
            "c) O terceiro elevado ao cubo é: 29.791000000000004\n"
          ]
        }
      ]
    },
    {
      "cell_type": "code",
      "source": [
        "    #Peso ideal\n",
        "\n",
        "Altura= float(input('qual sua altura em metros?'))\n",
        "peso_ideal = (72.7 * Altura) - 58\n",
        "print('seu peso ideal e:', peso_ideal)"
      ],
      "metadata": {
        "id": "gCgE_1BfBnrF",
        "colab": {
          "base_uri": "https://localhost:8080/"
        },
        "outputId": "1c18c917-6ec7-4022-9e15-64cdaa6ea1b4"
      },
      "execution_count": 1,
      "outputs": [
        {
          "output_type": "stream",
          "name": "stdout",
          "text": [
            "qual sua altura em metros?1.70\n",
            "seu peso ideal e: 65.59\n"
          ]
        }
      ]
    },
    {
      "cell_type": "code",
      "source": [
        "#peso ideal para homens\n",
        "\n",
        "Altura= float(input('qual sua altura em metros?'))\n",
        "peso_ideal = (72.7 * Altura) - 58\n",
        "print('seu peso ideal para homem:', peso_ideal)\n",
        "\n",
        "#peso ideal para mulheres\n",
        "\n",
        "Altura= float(input('qual sua altura em metros?'))\n",
        "peso_ideal = (62.1 * Altura) - 44.7\n",
        "print('seu peso ideal para mulher:', peso_ideal)\n"
      ],
      "metadata": {
        "colab": {
          "base_uri": "https://localhost:8080/"
        },
        "id": "GTIg3BadDf1F",
        "outputId": "6d76ce24-2ec1-4407-a81e-3fe3a5456787"
      },
      "execution_count": 3,
      "outputs": [
        {
          "output_type": "stream",
          "name": "stdout",
          "text": [
            "qual sua altura em metros?1.80\n",
            "seu peso ideal para homem: 72.86000000000001\n",
            "qual sua altura em metros?1.60\n",
            "seu peso ideal para mulher: 54.66000000000001\n"
          ]
        }
      ]
    },
    {
      "cell_type": "code",
      "source": [
        "#Peso do peixe\n",
        "peso=float(input('qual o peso do peixe?'))\n",
        "\n",
        "limite=50\n",
        "if peso > limite:\n",
        "    excesso = peso - limite\n",
        "    multa = excesso * 4\n",
        "else:\n",
        "    excesso = 0\n",
        "    multa = 0\n",
        "    print(\"Peso total:\", peso, \"kg\")\n",
        "print(\"Excesso:\", excesso, \"kg\")\n",
        "print(\"Multa a pagar: R$\", multa)"
      ],
      "metadata": {
        "colab": {
          "base_uri": "https://localhost:8080/"
        },
        "id": "Z7YOPAY3EnZy",
        "outputId": "4a811281-d7ab-44a2-e37e-87c75fefc97b"
      },
      "execution_count": 5,
      "outputs": [
        {
          "output_type": "stream",
          "name": "stdout",
          "text": [
            "qual o peso do peixe?55\n",
            "Excesso: 5.0 kg\n",
            "Multa a pagar: R$ 20.0\n"
          ]
        }
      ]
    },
    {
      "cell_type": "code",
      "source": [
        "#salario com descontos\n",
        "#valores\n",
        "\n",
        "valor_da_hora=float(input('qual o valor da hora?'))\n",
        "horas_trabalhadas=float(input('quantas horas voce trabalhou?'))\n",
        "\n",
        "salario_bruto = valor_da_hora * horas_trabalhadas\n",
        "\n",
        "#descontos\n",
        "ir = salario_bruto * 0.11\n",
        "inss = salario_bruto * 0.08\n",
        "sindicato = salario_bruto * 0.05\n",
        "total_de_descontos=ir + inss + sindicato\n",
        "salario_liquido= salario_bruto - total_de_descontos\n",
        "\n",
        "print(\"\\nResumo do salário:\")\n",
        "print(\"a) Salário Bruto   : R$\", round(salario_bruto, 2))\n",
        "print(\"b) IR (11%)        : R$\", round(ir, 2))\n",
        "print(\"c) INSS (8%)       : R$\", round(inss, 2))\n",
        "print(\"d) Sindicato (5%)  : R$\", round(sindicato, 2))\n",
        "print(\"e) Salário Líquido : R$\", round(salario_liquido, 2))"
      ],
      "metadata": {
        "colab": {
          "base_uri": "https://localhost:8080/"
        },
        "id": "_JbHZRWZIPaL",
        "outputId": "9f0f99ac-d221-4d33-f647-a594edac5054"
      },
      "execution_count": 7,
      "outputs": [
        {
          "output_type": "stream",
          "name": "stdout",
          "text": [
            "qual o valor da hora?12\n",
            "quantas horas voce trabalhou?8\n",
            "\n",
            "Resumo do salário:\n",
            "a) Salário Bruto   : R$ 96.0\n",
            "b) IR (11%)        : R$ 10.56\n",
            "c) INSS (8%)       : R$ 7.68\n",
            "d) Sindicato (5%)  : R$ 4.8\n",
            "e) Salário Líquido : R$ 72.96\n"
          ]
        }
      ]
    },
    {
      "cell_type": "code",
      "source": [
        "#tintas\n",
        "\n",
        "import math\n",
        "area=float(input('qual tamanho da area pintada em metros?'))\n",
        "litros = area / 3\n",
        "latas = math.ceil(litros / 18)\n",
        "preco = latas * 80\n",
        "print(\"\\nQuantidade de tinta necessária: {:.2f} litros\".format(litros))\n",
        "print(\"Quantidade de latas a comprar :\", latas)\n",
        "print(\"Preço total: R$ {:.2f}\".format(preco))"
      ],
      "metadata": {
        "colab": {
          "base_uri": "https://localhost:8080/"
        },
        "id": "7ndGSgtbOeox",
        "outputId": "0d1d2487-f807-436c-83e2-e6e4840c70c8"
      },
      "execution_count": 8,
      "outputs": [
        {
          "output_type": "stream",
          "name": "stdout",
          "text": [
            "qual tamanho da area pintada em metros?50\n",
            "\n",
            "Quantidade de tinta necessária: 16.67 litros\n",
            "Quantidade de latas a comprar : 1\n",
            "Preço total: R$ 80.00\n"
          ]
        }
      ]
    },
    {
      "cell_type": "code",
      "source": [
        "#Tamanho de um arquivo em (MB)e a velocidade\n",
        "\n",
        "tamanhos_dos_arquivos= float(input('qual o tamanho do arquivo em MB?'))\n",
        "velocidade_do_link= float(input('qual a velociade do link?'))\n",
        "#converte mbp em mb\n",
        "velocidade_MBps = velocidade_do_link / 8\n",
        "tempo_segundos = tamanhos_dos_arquivos / velocidade_MBps\n",
        "tempo_minutos = tempo_segundos / 60\n",
        "\n",
        "print('tempo aproximado de dowload e:')\n",
        "print(f'{tempo_minutos:.2f} minutos')"
      ],
      "metadata": {
        "colab": {
          "base_uri": "https://localhost:8080/"
        },
        "id": "m5ZX_Q3dPFnk",
        "outputId": "8a7848d8-5bc1-4b36-cbc2-51569ebd2ca9"
      },
      "execution_count": 10,
      "outputs": [
        {
          "output_type": "stream",
          "name": "stdout",
          "text": [
            "qual o tamanho do arquivo em MB?10\n",
            "qual a velociade do link?50\n",
            "tempo aproximado de dowload e:\n",
            "0.03 minutos\n"
          ]
        }
      ]
    },
    {
      "cell_type": "code",
      "source": [
        "#Quantidade de acertos de cada alunos\n",
        "\n",
        "cidades = []\n",
        "while len(cidades) < 6:\n",
        "    cidade = input(f\"Digite o nome da {len(cidades)+1}ª cidade: \").strip().title()\n",
        "\n",
        "\n",
        "    if cidade in cidades:\n",
        "        print(\"Cidade já cadastrada! Digite um nome diferente.\")\n",
        "    else:\n",
        "        cidades.append(cidade)\n",
        "\n",
        "\n",
        "for i in range(len(cidades)):\n",
        "    escolha = input(f\"Deseja adicionar algo ao nome da cidade '{cidades[i]}'? (S/N): \").upper().strip()\n",
        "    if escolha == \"S\":\n",
        "        extra = input(\"Digite o texto que deseja adicionar: \").strip()\n",
        "        cidades[i] = cidades[i] + \" \" + extra\n",
        "\n",
        "\n",
        "cidade_maior = max(cidades, key=len)\n",
        "\n",
        "\n",
        "print(\"\\n=== Resultado Final ===\")\n",
        "print(\"Cidades cadastradas:\")\n",
        "for cidade in cidades:\n",
        "    print(\"-\", cidade)\n",
        "\n",
        "print(\"\\nCidade com o nome mais extenso:\", cidade_maior)"
      ],
      "metadata": {
        "colab": {
          "base_uri": "https://localhost:8080/"
        },
        "id": "WtkXKkM7RdPs",
        "outputId": "21fdef58-7faf-4192-80bf-4a1dd9e78200"
      },
      "execution_count": 12,
      "outputs": [
        {
          "output_type": "stream",
          "name": "stdout",
          "text": [
            "Digite o nome da 1ª cidade: caruaru\n",
            "Digite o nome da 2ª cidade: catende\n",
            "Digite o nome da 3ª cidade: palmares\n",
            "Digite o nome da 4ª cidade: natal\n",
            "Digite o nome da 5ª cidade: joao pessoa\n",
            "Digite o nome da 6ª cidade: lage grande\n",
            "Deseja adicionar algo ao nome da cidade 'Caruaru'? (S/N): N\n",
            "Deseja adicionar algo ao nome da cidade 'Catende'? (S/N): N\n",
            "Deseja adicionar algo ao nome da cidade 'Palmares'? (S/N): N\n",
            "Deseja adicionar algo ao nome da cidade 'Natal'? (S/N): N\n",
            "Deseja adicionar algo ao nome da cidade 'Joao Pessoa'? (S/N): N\n",
            "Deseja adicionar algo ao nome da cidade 'Lage Grande'? (S/N): N\n",
            "\n",
            "=== Resultado Final ===\n",
            "Cidades cadastradas:\n",
            "- Caruaru\n",
            "- Catende\n",
            "- Palmares\n",
            "- Natal\n",
            "- Joao Pessoa\n",
            "- Lage Grande\n",
            "\n",
            "Cidade com o nome mais extenso: Joao Pessoa\n"
          ]
        }
      ]
    },
    {
      "cell_type": "code",
      "source": [
        "          #Vogal ou consoante\n",
        "\n",
        "\n",
        "\n",
        "letra= input(\"Digite uma letra: \")\n",
        "\n",
        "\n",
        "if len(letra) != 1 or not letra.isalpha():\n",
        "    print(\"Entrada inválida! Digite apenas uma letra.\")\n",
        "elif letra in \"AEIOU\":\n",
        "    print(\"A letra digitada é uma VOGAL.\")\n",
        "else:\n",
        "    print(\"A letra digitada é uma CONSOANTE.\")\n"
      ],
      "metadata": {
        "colab": {
          "base_uri": "https://localhost:8080/"
        },
        "id": "Ktt2CFWkTJA3",
        "outputId": "4a43d29a-4d54-4d70-e703-2c56237a4bbb"
      },
      "execution_count": 15,
      "outputs": [
        {
          "output_type": "stream",
          "name": "stdout",
          "text": [
            "Digite uma letra: a\n",
            "A letra digitada é uma CONSOANTE.\n"
          ]
        }
      ]
    },
    {
      "cell_type": "code",
      "source": [
        "\n",
        "\n",
        "\n",
        "p1 = input(\"Digite a primeira palavra: \").strip()\n",
        "p2 = input(\"Digite a segunda palavra: \").strip()\n",
        "p3 = input(\"Digite a terceira palavra: \").strip()\n",
        "\n",
        "\n",
        "palavras = [p1, p2, p3]\n",
        "\n",
        "\n",
        "maior = max(palavras, key=len)\n",
        "\n",
        "\n",
        "print(f\"\\nA maior palavra é: {maior}\")\n",
        "print(f\"Ela tem {len(maior)} caracteres.\")\n"
      ],
      "metadata": {
        "colab": {
          "base_uri": "https://localhost:8080/"
        },
        "id": "DPNy3MYIVHen",
        "outputId": "179c238f-bd27-4ac7-fc57-6af7b4b31217"
      },
      "execution_count": 16,
      "outputs": [
        {
          "output_type": "stream",
          "name": "stdout",
          "text": [
            "Digite a primeira palavra: abc\n",
            "Digite a segunda palavra: dfg\n",
            "Digite a terceira palavra: hjk\n",
            "\n",
            "A maior palavra é: abc\n",
            "Ela tem 3 caracteres.\n"
          ]
        }
      ]
    },
    {
      "cell_type": "code",
      "source": [
        "#compáracao\n",
        "\n",
        "n1 = float(input(\"Digite o primeiro número: \"))\n",
        "n2 = float(input(\"Digite o segundo número: \"))\n",
        "n3 = float(input(\"Digite o terceiro número: \"))\n",
        "\n",
        "\n",
        "numeros = [n1, n2, n3]\n",
        "\n",
        "\n",
        "maior = max(numeros)\n",
        "menor = min(numeros)\n",
        "print(f\"\\nO maior número é: {maior}\")\n",
        "print(f\"O menor número é: {menor}\")\n"
      ],
      "metadata": {
        "colab": {
          "base_uri": "https://localhost:8080/"
        },
        "id": "gppmU11pWVFz",
        "outputId": "6a1bc5eb-61ab-4cea-d5aa-250f199017ab"
      },
      "execution_count": 17,
      "outputs": [
        {
          "output_type": "stream",
          "name": "stdout",
          "text": [
            "Digite o primeiro número: 8\n",
            "Digite o segundo número: 10\n",
            "Digite o terceiro número: 15\n",
            "\n",
            "O maior número é: 15.0\n",
            "O menor número é: 8.0\n"
          ]
        }
      ]
    },
    {
      "cell_type": "code",
      "source": [
        "#preços\n",
        "\n",
        "\n",
        "\n",
        "p1 = float(input(\"Digite o preço do primeiro produto: R$ \"))\n",
        "p2 = float(input(\"Digite o preço do segundo produto: R$ \"))\n",
        "p3 = float(input(\"Digite o preço do terceiro produto: R$ \"))\n",
        "\n",
        "\n",
        "precos = [p1, p2, p3]\n",
        "\n",
        "\n",
        "mais_barato = min(precos)\n",
        "\n",
        "\n",
        "indice = precos.index(mais_barato) + 1\n",
        "\n",
        "print(f\"\\nO produto {indice} é o mais barato, custando R$ {mais_barato:.2f}.\")\n",
        "print(f\"Você deve comprar o produto {indice}.\")\n"
      ],
      "metadata": {
        "colab": {
          "base_uri": "https://localhost:8080/"
        },
        "id": "4LvLg_2zXFbG",
        "outputId": "5e7b2105-f185-458e-fa06-7fc4e098b1f8"
      },
      "execution_count": 18,
      "outputs": [
        {
          "output_type": "stream",
          "name": "stdout",
          "text": [
            "Digite o preço do primeiro produto: R$ 35\n",
            "Digite o preço do segundo produto: R$ 20\n",
            "Digite o preço do terceiro produto: R$ 50\n",
            "\n",
            "O produto 2 é o mais barato, custando R$ 20.00.\n",
            "Você deve comprar o produto 2.\n"
          ]
        }
      ]
    },
    {
      "cell_type": "code",
      "source": [
        " #turno de estudo\n",
        "\n",
        "turno = input(\"Em que turno você estuda? (M - Matutino / V - Vespertino / N - Noturno): \").strip().upper()\n",
        "\n",
        "if turno == \"M\":\n",
        "    print(\"Bom Dia!\")\n",
        "elif turno == \"V\":\n",
        "    print(\"Boa Tarde!\")\n",
        "elif turno == \"N\":\n",
        "    print(\"Boa Noite!\")\n",
        "else:\n",
        "    print(\"Valor Inválido!\")\n"
      ],
      "metadata": {
        "colab": {
          "base_uri": "https://localhost:8080/"
        },
        "id": "OMT29d-3XYQn",
        "outputId": "485a7c5f-c3a6-463e-c6e5-7ecc4e18b87e"
      },
      "execution_count": 20,
      "outputs": [
        {
          "output_type": "stream",
          "name": "stdout",
          "text": [
            "Em que turno você estuda? (M - Matutino / V - Vespertino / N - Noturno): m\n",
            "Bom Dia!\n"
          ]
        }
      ]
    },
    {
      "cell_type": "code",
      "source": [
        "#investigação criminal\n",
        "\n",
        "print(\"Responda com S (sim) ou N (não):\")\n",
        "\n",
        "perguntas = [\n",
        "    \"Telefonou para a vítima? \",\n",
        "    \"Esteve no local do crime? \",\n",
        "    \"Mora perto da vítima? \",\n",
        "    \"Devia para a vítima? \",\n",
        "    \"Já trabalhou com a vítima? \"\n",
        "]\n",
        "\n",
        "respostas_positivas = 0\n",
        "\n",
        "for pergunta in perguntas:\n",
        "    resposta = input(pergunta).strip().upper()\n",
        "    while resposta not in [\"S\", \"N\"]:  # valida entrada\n",
        "        resposta = input(\"Resposta inválida! Digite S ou N: \").strip().upper()\n",
        "    if resposta == \"S\":\n",
        "        respostas_positivas += 1\n",
        "\n",
        "print(\"\\nClassificação da investigação:\")\n",
        "if respostas_positivas == 2:\n",
        "    print(\"👉 Suspeita\")\n",
        "elif 3 <= respostas_positivas <= 4:\n",
        "    print(\"👉 Cúmplice\")\n",
        "elif respostas_positivas == 5:\n",
        "    print(\"👉 Assassino\")\n",
        "else:\n",
        "    print(\"👉 Inocente\")\n"
      ],
      "metadata": {
        "colab": {
          "base_uri": "https://localhost:8080/"
        },
        "id": "8l0kX5cHbQiT",
        "outputId": "7ce17e09-5c03-4b2d-e5ee-f799cac60672"
      },
      "execution_count": 21,
      "outputs": [
        {
          "output_type": "stream",
          "name": "stdout",
          "text": [
            "Responda com S (sim) ou N (não):\n",
            "Telefonou para a vítima? s\n",
            "Esteve no local do crime? n\n",
            "Mora perto da vítima? n\n",
            "Devia para a vítima? n\n",
            "Já trabalhou com a vítima? s\n",
            "\n",
            "Classificação da investigação:\n",
            "👉 Suspeita\n"
          ]
        }
      ]
    },
    {
      "cell_type": "code",
      "source": [
        "#cadastro de 13 alunos\n",
        "\n",
        "alunos = []\n",
        "\n",
        "for i in range(1, 14):\n",
        "    print(f\"\\nCadastro do {i}º aluno:\")\n",
        "    matricula = input(\"Digite a matrícula: \").strip()\n",
        "    nome = input(\"Digite o nome: \").strip()\n",
        "\n",
        "    while True:\n",
        "        nota1_str = input(\"Digite a primeira nota: \").strip()\n",
        "        if nota1_str:\n",
        "            try:\n",
        "                nota1 = float(nota1_str)\n",
        "                break\n",
        "            except ValueError:\n",
        "                print(\"Entrada inválida. Digite um número para a\n",
        "\n",
        "\n",
        "\n",
        "                7nota.\")\n",
        "        else:\n",
        "            print(\"A nota não pode ser vazia.\")\n",
        "\n",
        "    while True:\n",
        "        nota2_str = input(\"Digite a segunda nota: \").strip()\n",
        "        if nota2_str:\n",
        "            try:\n",
        "                nota2 = float(nota2_str)\n",
        "                break\n",
        "            except ValueError:\n",
        "                print(\"Entrada inválida. Digite um número para a nota.\")\n",
        "        else:\n",
        "            print(\"A nota não pode ser vazia.\")\n",
        "\n",
        "    media = (nota1 + nota2) / 2\n",
        "    aluno = {\n",
        "        \"matricula\": matricula,\n",
        "        \"nome\": nome,\n",
        "        \"media\": media\n",
        "    }\n",
        "\n",
        "    alunos.append(aluno)\n",
        "\n",
        "print(\"\\n=== Lista de alunos ===\")\n",
        "for aluno in alunos:\n",
        "    print(f\"Matrícula: {aluno['matricula']} | Nome: {aluno['nome']} | Média: {aluno['media']:.2f}\")"
      ],
      "metadata": {
        "colab": {
          "base_uri": "https://localhost:8080/"
        },
        "id": "oHUfoagKcMge",
        "outputId": "b6068d6a-d820-4e0b-9e86-1216a82bdd68"
      },
      "execution_count": 23,
      "outputs": [
        {
          "output_type": "stream",
          "name": "stdout",
          "text": [
            "\n",
            "Cadastro do 1º aluno:\n",
            "Digite a matrícula: 123\n",
            "Digite o nome: 5\n",
            "Digite a primeira nota: 6\n",
            "Digite a segunda nota: 8\n",
            "\n",
            "Cadastro do 2º aluno:\n",
            "Digite a matrícula: 456\n",
            "Digite o nome: lucas\n",
            "Digite a primeira nota: 8\n",
            "Digite a segunda nota: 5\n",
            "\n",
            "Cadastro do 3º aluno:\n",
            "Digite a matrícula: 3\n",
            "Digite o nome: arthur\n",
            "Digite a primeira nota: 5\n",
            "Digite a segunda nota: 3\n",
            "\n",
            "Cadastro do 4º aluno:\n",
            "Digite a matrícula: 9\n",
            "Digite o nome: JOSE\n",
            "Digite a primeira nota: 5\n",
            "Digite a segunda nota: 8\n",
            "\n",
            "Cadastro do 5º aluno:\n",
            "Digite a matrícula: \n",
            "Digite o nome: 6\n",
            "Digite a primeira nota: 1\n",
            "Digite a segunda nota: 5\n",
            "\n",
            "Cadastro do 6º aluno:\n",
            "Digite a matrícula: silva\n",
            "Digite o nome: silva\n",
            "Digite a primeira nota: 8\n",
            "Digite a segunda nota: 5\n",
            "\n",
            "Cadastro do 7º aluno:\n",
            "Digite a matrícula: 6\n",
            "Digite o nome: jaime\n",
            "Digite a primeira nota: 8\n",
            "Digite a segunda nota: 5\n",
            "\n",
            "Cadastro do 8º aluno:\n",
            "Digite a matrícula: 3\n",
            "Digite o nome: renan\n",
            "Digite a primeira nota: 8\n",
            "Digite a segunda nota: 7\n",
            "\n",
            "Cadastro do 9º aluno:\n",
            "Digite a matrícula: 789\n",
            "Digite o nome: anderson\n",
            "Digite a primeira nota: 8\n",
            "Digite a segunda nota: 7\n",
            "\n",
            "Cadastro do 10º aluno:\n",
            "Digite a matrícula: 3\n",
            "Digite o nome: dario\n",
            "Digite a primeira nota: 8\n",
            "Digite a segunda nota: 6\n",
            "\n",
            "Cadastro do 11º aluno:\n",
            "Digite a matrícula: 5\n",
            "Digite o nome: lorena\n",
            "Digite a primeira nota: 5\n",
            "Digite a segunda nota: \n",
            "A nota não pode ser vazia.\n",
            "Digite a segunda nota: 8\n",
            "\n",
            "Cadastro do 12º aluno:\n",
            "Digite a matrícula: 6\n",
            "Digite o nome: israel\n",
            "Digite a primeira nota: 8\n",
            "Digite a segunda nota: 3\n",
            "\n",
            "Cadastro do 13º aluno:\n",
            "Digite a matrícula: 9\n",
            "Digite o nome: suelen\n",
            "Digite a primeira nota: 5\n",
            "Digite a segunda nota: 8\n",
            "\n",
            "=== Lista de alunos ===\n",
            "Matrícula: 123 | Nome: 5 | Média: 7.00\n",
            "Matrícula: 456 | Nome: lucas | Média: 6.50\n",
            "Matrícula: 3 | Nome: arthur | Média: 4.00\n",
            "Matrícula: 9 | Nome: JOSE | Média: 6.50\n",
            "Matrícula:  | Nome: 6 | Média: 3.00\n",
            "Matrícula: silva | Nome: silva | Média: 6.50\n",
            "Matrícula: 6 | Nome: jaime | Média: 6.50\n",
            "Matrícula: 3 | Nome: renan | Média: 7.50\n",
            "Matrícula: 789 | Nome: anderson | Média: 7.50\n",
            "Matrícula: 3 | Nome: dario | Média: 7.00\n",
            "Matrícula: 5 | Nome: lorena | Média: 6.50\n",
            "Matrícula: 6 | Nome: israel | Média: 5.50\n",
            "Matrícula: 9 | Nome: suelen | Média: 6.50\n"
          ]
        }
      ]
    }
  ]
}